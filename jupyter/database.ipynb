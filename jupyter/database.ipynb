{
 "cells": [
  {
   "cell_type": "code",
   "execution_count": 1,
   "metadata": {},
   "outputs": [
    {
     "ename": "ModuleNotFoundError",
     "evalue": "No module named 'settings'",
     "output_type": "error",
     "traceback": [
      "\u001b[0;31m---------------------------------------------------------------------------\u001b[0m",
      "\u001b[0;31mModuleNotFoundError\u001b[0m                       Traceback (most recent call last)",
      "Cell \u001b[0;32mIn[1], line 3\u001b[0m\n\u001b[1;32m      1\u001b[0m \u001b[39mimport\u001b[39;00m \u001b[39mrequests\u001b[39;00m\n\u001b[1;32m      2\u001b[0m \u001b[39mfrom\u001b[39;00m \u001b[39msqlalchemy\u001b[39;00m\u001b[39m.\u001b[39;00m\u001b[39morm\u001b[39;00m \u001b[39mimport\u001b[39;00m sessionmaker\n\u001b[0;32m----> 3\u001b[0m \u001b[39mfrom\u001b[39;00m \u001b[39msettings\u001b[39;00m \u001b[39mimport\u001b[39;00m Engine\n\u001b[1;32m      4\u001b[0m \u001b[39mfrom\u001b[39;00m \u001b[39mmodels\u001b[39;00m \u001b[39mimport\u001b[39;00m Material, OpticalIndex\n",
      "\u001b[0;31mModuleNotFoundError\u001b[0m: No module named 'settings'"
     ]
    }
   ],
   "source": [
    "import requests\n",
    "from sqlalchemy.orm import sessionmaker\n",
    "from settings import Engine\n",
    "from models import Material, OpticalIndex"
   ]
  },
  {
   "attachments": {},
   "cell_type": "markdown",
   "metadata": {},
   "source": [
    "## filmetricsからデータを追加"
   ]
  },
  {
   "cell_type": "code",
   "execution_count": 2,
   "metadata": {},
   "outputs": [],
   "source": [
    "def add_data(url):\n",
    "    response = requests.get(url)\n",
    "    if response.status_code == 200:\n",
    "        \n",
    "        name = url.split('/')[-1]\n",
    "        text = response.text\n",
    "        \n",
    "        Session = sessionmaker(bind=Engine)\n",
    "        session = Session()\n",
    "\n",
    "        material = session.query(Material).filter_by(name=name).one_or_none()\n",
    "        if material is None:\n",
    "            material = Material(name=name)\n",
    "            session.add(material)\n",
    "            material = session.query(Material).filter_by(name=name).one()\n",
    "            lines = text.splitlines()\n",
    "            lines.pop(0)\n",
    "            opticalindexes = [OpticalIndex(material_id=material.id,wavelength=line.split()[0],\n",
    "                                           n=line.split()[1],k=line.split()[2]) for line in lines]\n",
    "            session.add_all(opticalindexes)\n",
    "            session.commit()\n",
    "        session.close()\n",
    "    return response.status_code\n",
    "\n"
   ]
  },
  {
   "attachments": {},
   "cell_type": "markdown",
   "metadata": {},
   "source": [
    "## データ出力"
   ]
  },
  {
   "cell_type": "code",
   "execution_count": 3,
   "metadata": {},
   "outputs": [],
   "source": [
    "def get_data(name):\n",
    "    Session = sessionmaker(bind=Engine)\n",
    "    session = Session()\n",
    "    opticalindexes = session.query(OpticalIndex).\\\n",
    "                             join(Material,OpticalIndex.material_id == Material.id).\\\n",
    "                             filter_by(name=name).order_by(OpticalIndex.wavelength).all()\n",
    "    result = [(opticalindex.wavelength, complex(opticalindex.n,opticalindex.k)) for opticalindex in opticalindexes]\n",
    "    session.close()\n",
    "    return result"
   ]
  },
  {
   "cell_type": "code",
   "execution_count": 4,
   "metadata": {},
   "outputs": [],
   "source": [
    "def get_material_name():\n",
    "    Session = sessionmaker(bind=Engine)\n",
    "    session = Session()\n",
    "    qs = session.query(Material).all()\n",
    "    session.close()\n",
    "    return [q.name for q in qs]"
   ]
  },
  {
   "attachments": {},
   "cell_type": "markdown",
   "metadata": {},
   "source": [
    "## データ削除"
   ]
  },
  {
   "cell_type": "code",
   "execution_count": 5,
   "metadata": {},
   "outputs": [],
   "source": [
    "def delete_data(name):\n",
    "    Session = sessionmaker(bind=Engine)\n",
    "    session = Session()\n",
    "    q = session.query(Material).filter_by(name=name).one_or_none()\n",
    "    if q is not None:\n",
    "        session.query(OpticalIndex).filter_by(material_id=q.id).delete()\n",
    "        session.delete(q)\n",
    "        session.commit()\n",
    "    session.close()\n"
   ]
  },
  {
   "cell_type": "code",
   "execution_count": 6,
   "metadata": {},
   "outputs": [
    {
     "data": {
      "text/plain": [
       "200"
      ]
     },
     "execution_count": 6,
     "metadata": {},
     "output_type": "execute_result"
    }
   ],
   "source": [
    "# Test\n",
    "url = 'https://www.filmetricsinc.jp/technology/refractive-index-database/download/Acrylic'\n",
    "add_data(url)\n"
   ]
  },
  {
   "cell_type": "code",
   "execution_count": 7,
   "metadata": {},
   "outputs": [
    {
     "name": "stdout",
     "output_type": "stream",
     "text": [
      "[(435.0, (1.5027+0j)), (440.0, (1.5017+0j)), (445.0, (1.5009+0j)), (450.0, (1.5002+0j)), (455.0, (1.4996+0j)), (460.0, (1.4991+0j)), (465.0, (1.4987+0j)), (470.0, (1.4983+0j)), (475.0, (1.498+0j)), (480.0, (1.4977+0j)), (485.0, (1.4974+0j)), (490.0, (1.4971+0j)), (495.0, (1.4968+0j)), (500.0, (1.4965+0j)), (505.0, (1.4962+0j)), (510.0, (1.496+0j)), (515.0, (1.4957+0j)), (520.0, (1.4954+0j)), (525.0, (1.4951+0j)), (530.0, (1.4948+0j)), (535.0, (1.4945+0j)), (540.0, (1.4942+0j)), (545.0, (1.4939+0j)), (550.0, (1.4936+0j)), (555.0, (1.4933+0j)), (560.0, (1.493+0j)), (565.0, (1.4927+0j)), (570.0, (1.4924+0j)), (575.0, (1.4921+0j)), (580.0, (1.4918+0j)), (585.0, (1.4915+0j)), (590.0, (1.4913+0j)), (595.0, (1.491+0j)), (600.0, (1.4907+0j)), (605.0, (1.4904+0j)), (610.0, (1.4902+0j)), (615.0, (1.4899+0j)), (620.0, (1.4896+0j)), (625.0, (1.4894+0j)), (630.0, (1.4891+0j)), (635.0, (1.4889+0j)), (640.0, (1.4887+0j)), (645.0, (1.4884+0j)), (650.0, (1.4882+0j)), (655.0, (1.488+0j)), (660.0, (1.4878+0j)), (665.0, (1.4876+0j)), (670.0, (1.4874+0j)), (675.0, (1.4872+0j)), (680.0, (1.487+0j)), (685.0, (1.4869+0j)), (690.0, (1.4867+0j)), (695.0, (1.4865+0j)), (700.0, (1.4864+0j)), (705.0, (1.4862+0j)), (710.0, (1.4861+0j)), (715.0, (1.486+0j)), (720.0, (1.4858+0j)), (725.0, (1.4857+0j)), (730.0, (1.4856+0j)), (735.0, (1.4855+0j)), (740.0, (1.4853+0j)), (745.0, (1.4852+0j)), (750.0, (1.4851+0j)), (755.0, (1.485+0j)), (760.0, (1.4849+0j)), (765.0, (1.4849+0j)), (770.0, (1.4848+0j)), (775.0, (1.4847+0j)), (780.0, (1.4846+0j)), (785.0, (1.4845+0j)), (790.0, (1.4844+0j)), (795.0, (1.4844+0j)), (800.0, (1.4843+0j)), (805.0, (1.4842+0j)), (810.0, (1.4842+0j)), (815.0, (1.4841+0j)), (820.0, (1.4841+0j)), (825.0, (1.484+0j)), (830.0, (1.4839+0j)), (835.0, (1.4839+0j)), (840.0, (1.4838+0j)), (845.0, (1.4838+0j)), (850.0, (1.4837+0j)), (855.0, (1.4837+0j)), (860.0, (1.4836+0j)), (865.0, (1.4836+0j)), (870.0, (1.4835+0j)), (875.0, (1.4835+0j)), (880.0, (1.4834+0j)), (885.0, (1.4834+0j)), (890.0, (1.4833+0j)), (895.0, (1.4833+0j)), (900.0, (1.4832+0j)), (905.0, (1.4832+0j)), (910.0, (1.4831+0j)), (915.0, (1.4831+0j)), (920.0, (1.483+0j)), (925.0, (1.483+0j)), (935.0, (1.4829+0j)), (945.0, (1.4828+0j)), (955.0, (1.4827+0j)), (965.0, (1.4825+0j)), (975.0, (1.4824+0j)), (985.0, (1.4823+0j)), (995.0, (1.4822+0j)), (1005.0, (1.482+0j)), (1015.0, (1.4819+0j)), (1025.0, (1.4817+0j)), (1035.0, (1.4816+0j)), (1045.0, (1.4814+0j)), (1050.0, (1.4813+0j))]\n"
     ]
    }
   ],
   "source": [
    "names= get_material_name()\n",
    "print(get_data(names[0]))\n",
    "delete_data(names[0])"
   ]
  },
  {
   "cell_type": "code",
   "execution_count": 10,
   "metadata": {},
   "outputs": [],
   "source": [
    "import database as db\n"
   ]
  },
  {
   "cell_type": "code",
   "execution_count": 11,
   "metadata": {},
   "outputs": [
    {
     "data": {
      "text/plain": [
       "200"
      ]
     },
     "execution_count": 11,
     "metadata": {},
     "output_type": "execute_result"
    }
   ],
   "source": [
    "db.add_data('https://www.filmetricsinc.jp/technology/refractive-index-database/download/Al')"
   ]
  },
  {
   "cell_type": "code",
   "execution_count": 12,
   "metadata": {},
   "outputs": [
    {
     "data": {
      "text/plain": [
       "[(183.68, (0.102+2.07j)),\n",
       " (185.05, (0.1044+2.085002j)),\n",
       " (186.44, (0.1062+2.103344j)),\n",
       " (187.86, (0.1076+2.124184j)),\n",
       " (189.29, (0.1088+2.146683j)),\n",
       " (190.75, (0.11+2.17j)),\n",
       " (192.23, (0.1113+2.193295j)),\n",
       " (193.73, (0.1129+2.215727j)),\n",
       " (195.25, (0.1148+2.237511j)),\n",
       " (196.8, (0.1168+2.258863j)),\n",
       " (198.38, (0.119+2.28j)),\n",
       " (199.98, (0.1213+2.301136j)),\n",
       " (201.6, (0.1236+2.322489j)),\n",
       " (203.25, (0.1258+2.344273j)),\n",
       " (204.93, (0.128+2.366705j)),\n",
       " (206.64, (0.13+2.39j)),\n",
       " (208.38, (0.1318+2.414375j)),\n",
       " (210.14, (0.134+2.44j)),\n",
       " (211.94, (0.1364+2.465625j)),\n",
       " (213.77, (0.139+2.49j)),\n",
       " (215.63, (0.1415+2.509375j)),\n",
       " (217.52, (0.144+2.53j)),\n",
       " (219.44, (0.1464+2.559375j)),\n",
       " (221.4, (0.149+2.59j)),\n",
       " (223.4, (0.1519+2.615j)),\n",
       " (225.43, (0.155+2.64j)),\n",
       " (227.5, (0.1585+2.669375j)),\n",
       " (229.6, (0.162+2.7j)),\n",
       " (231.75, (0.1649+2.73j)),\n",
       " (233.93, (0.168+2.76j)),\n",
       " (236.16, (0.1719+2.79j)),\n",
       " (238.43, (0.176+2.82j)),\n",
       " (240.75, (0.1796+2.85j)),\n",
       " (243.11, (0.183+2.88j)),\n",
       " (245.52, (0.1865+2.909375j)),\n",
       " (247.97, (0.19+2.94j)),\n",
       " (250.48, (0.1934+2.975j)),\n",
       " (253.03, (0.197+3.01j)),\n",
       " (255.64, (0.2009+3.039375j)),\n",
       " (258.3, (0.205+3.07j)),\n",
       " (261.02, (0.2089+3.109375j)),\n",
       " (263.8, (0.213+3.15j)),\n",
       " (266.63, (0.2179+3.185j)),\n",
       " (269.53, (0.223+3.22j)),\n",
       " (272.49, (0.2279+3.259375j)),\n",
       " (275.52, (0.233+3.3j)),\n",
       " (278.62, (0.2384+3.339375j)),\n",
       " (281.78, (0.244+3.38j)),\n",
       " (285.02, (0.2494+3.425j)),\n",
       " (288.34, (0.255+3.47j)),\n",
       " (291.73, (0.2609+3.51j)),\n",
       " (295.2, (0.267+3.55j)),\n",
       " (298.76, (0.2734+3.59375j)),\n",
       " (302.4, (0.28+3.64j)),\n",
       " (306.14, (0.2868+3.689375j)),\n",
       " (309.96, (0.294+3.74j)),\n",
       " (313.89, (0.3019+3.789375j)),\n",
       " (317.91, (0.31+3.84j)),\n",
       " (322.04, (0.3179+3.894375j)),\n",
       " (326.28, (0.326+3.95j)),\n",
       " (330.63, (0.3348+4.005j)),\n",
       " (335.1, (0.344+4.06j)),\n",
       " (339.69, (0.3538+4.11375j)),\n",
       " (344.4, (0.364+4.17j)),\n",
       " (349.25, (0.3744+4.23375j)),\n",
       " (354.24, (0.385+4.3j)),\n",
       " (359.38, (0.3958+4.365j)),\n",
       " (364.66, (0.407+4.43j)),\n",
       " (370.11, (0.4191+4.49375j)),\n",
       " (375.71, (0.432+4.56j)),\n",
       " (381.49, (0.4457+4.63375j)),\n",
       " (387.45, (0.46+4.71j)),\n",
       " (393.6, (0.4747+4.784375j)),\n",
       " (399.95, (0.49+4.86j)),\n",
       " (406.51, (0.5062+4.938125j)),\n",
       " (413.28, (0.523+5.02j)),\n",
       " (420.29, (0.5401+5.10875j)),\n",
       " (427.54, (0.558+5.2j)),\n",
       " (435.04, (0.5773+5.29j)),\n",
       " (442.8, (0.598+5.38j)),\n",
       " (450.86, (0.6203+5.48j)),\n",
       " (459.2, (0.644+5.58j)),\n",
       " (467.87, (0.6686+5.69j)),\n",
       " (476.87, (0.695+5.8j)),\n",
       " (486.22, (0.7238+5.915j)),\n",
       " (495.94, (0.755+6.03j)),\n",
       " (506.06, (0.789+6.15j)),\n",
       " (516.6, (0.826+6.28j)),\n",
       " (527.6, (0.867+6.42j)),\n",
       " (539.07, (0.912+6.55j)),\n",
       " (551.05, (0.963+6.7j)),\n",
       " (563.57, (1.02+6.85j)),\n",
       " (576.68, (1.08+7j)),\n",
       " (590.41, (1.15+7.15j)),\n",
       " (604.81, (1.22+7.31j)),\n",
       " (619.93, (1.3+7.48j)),\n",
       " (635.82, (1.39+7.65j)),\n",
       " (652.55, (1.49+7.82j)),\n",
       " (670.19, (1.6+8.01j)),\n",
       " (688.81, (1.74+8.21j)),\n",
       " (708.49, (1.91+8.39j)),\n",
       " (729.32, (2.14+8.57j)),\n",
       " (751.43, (2.41+8.62j)),\n",
       " (774.91, (2.63+8.6j)),\n",
       " (799.9, (2.8+8.45j)),\n",
       " (826.57, (2.74+8.31j)),\n",
       " (855.07, (2.58+8.21j)),\n",
       " (885.61, (2.24+8.21j)),\n",
       " (918.41, (1.86+8.44j)),\n",
       " (953.73, (1.47+8.95j)),\n",
       " (991.88, (1.37+9.49j)),\n",
       " (1033.21, (1.26+10j)),\n",
       " (1078.13, (1.21+10.6j)),\n",
       " (1127.14, (1.2+11.2j)),\n",
       " (1180.81, (1.21+11.8j)),\n",
       " (1239.85, (1.21+12.5j)),\n",
       " (1305.11, (1.23+13.2j)),\n",
       " (1377.61, (1.26+14j)),\n",
       " (1458.65, (1.33+14.9j)),\n",
       " (1549.81, (1.44+16j)),\n",
       " (1653.14, (1.59+17.1j)),\n",
       " (1771.22, (1.77+18.3j)),\n",
       " (1907.46, (1.99+19.8j)),\n",
       " (2066.42, (2.27+21.4j)),\n",
       " (2254.28, (2.62+23.3j)),\n",
       " (2479.7, (3.07+25.6j))]"
      ]
     },
     "execution_count": 12,
     "metadata": {},
     "output_type": "execute_result"
    }
   ],
   "source": [
    "db.get_data('Al')"
   ]
  }
 ],
 "metadata": {
  "kernelspec": {
   "display_name": ".venv",
   "language": "python",
   "name": "python3"
  },
  "language_info": {
   "codemirror_mode": {
    "name": "ipython",
    "version": 3
   },
   "file_extension": ".py",
   "mimetype": "text/x-python",
   "name": "python",
   "nbconvert_exporter": "python",
   "pygments_lexer": "ipython3",
   "version": "3.9.9"
  },
  "orig_nbformat": 4,
  "vscode": {
   "interpreter": {
    "hash": "6b151670b8be7ebcfea0b711d744efb89439417d3fd860d2d20faf141d62d96a"
   }
  }
 },
 "nbformat": 4,
 "nbformat_minor": 2
}
