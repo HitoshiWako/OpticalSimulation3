{
 "cells": [
  {
   "attachments": {},
   "cell_type": "markdown",
   "metadata": {},
   "source": [
    "# 光学シミュレーション"
   ]
  },
  {
   "attachments": {},
   "cell_type": "markdown",
   "metadata": {},
   "source": [
    "## 参考文献\n",
    "- [光学機能性フィルムのシミュレーションによる設計と実験的検証](https://www.kobelco.co.jp/technology-review/pdf/65_2/050-053.pdf)\n",
    "- [光学薄膜の分光特性シミュレーション](https://www.jstage.jst.go.jp/article/sfj1989/48/9/48_9_890/_pdf)\n",
    "- [基礎物理定数|ウシオ電機](https://www.ushio.co.jp/jp/technology/glossary/material/attached_material_03.html)"
   ]
  },
  {
   "attachments": {},
   "cell_type": "markdown",
   "metadata": {},
   "source": [
    "## スネルの法則\n",
    "$$\n",
    "n_{0}\\sin\\theta_{0}=n_{1}\\sin\\theta_{1} \\\\\n",
    "\\theta_{1} = \\sin^{-1}\\left(\\frac{n_{0}}{n_{1}}\\sin\\theta_{0}\\right)\n",
    "$$ "
   ]
  },
  {
   "cell_type": "code",
   "execution_count": 1,
   "metadata": {},
   "outputs": [],
   "source": [
    "# import\n",
    "import numpy as np"
   ]
  },
  {
   "cell_type": "code",
   "execution_count": 2,
   "metadata": {},
   "outputs": [],
   "source": [
    "# code\n",
    "def snell(n1,n0,theta):\n",
    "    return np.arcsin(n0.real/n1.real*np.sin(theta))\n"
   ]
  },
  {
   "cell_type": "code",
   "execution_count": 3,
   "metadata": {},
   "outputs": [
    {
     "data": {
      "text/plain": [
       "0.0"
      ]
     },
     "execution_count": 3,
     "metadata": {},
     "output_type": "execute_result"
    }
   ],
   "source": [
    "# test\n",
    "snell(1+1j,1,0)"
   ]
  },
  {
   "attachments": {},
   "cell_type": "markdown",
   "metadata": {},
   "source": [
    "## 光学アドミタンス\n",
    "$$\n",
    "\\eta =\n",
    "\\left\\{\n",
    "    \\begin{array}{ll}\n",
    "        Y_{0}n\\cos\\phi & \\text{s偏光} \\\\\n",
    "        \\displaystyle\\frac{Y_{0}n}{\\cos\\phi} & \\text{p偏光}\n",
    "    \\end{array}\n",
    "\\right.\n",
    "$$\n",
    "ここで$Y_{0}$は真空の光学アドミタンスであり\n",
    "$$\n",
    "Y_{0} =\\sqrt{\\frac{\\epsilon_{0}}{\\mu_{0}}}\n",
    "$$\n",
    "$\\epsilon_{0}$:真空の誘電率、$\\mu_{0}$:真空の透磁率である。\n",
    "\n"
   ]
  },
  {
   "cell_type": "code",
   "execution_count": 4,
   "metadata": {},
   "outputs": [],
   "source": [
    "# Constants\n",
    "EPS = 8.8541878128e-12\n",
    "MU = 1.25663706212e-6\n",
    "Y0 = np.sqrt(EPS/MU)"
   ]
  },
  {
   "cell_type": "code",
   "execution_count": 5,
   "metadata": {},
   "outputs": [],
   "source": [
    "# code\n",
    "def admittance(n1,n0,theta):\n",
    "    phi = snell(n1,n0,theta)\n",
    "    return (Y0*n1*np.cos(phi), Y0*n1/np.cos(phi))"
   ]
  },
  {
   "cell_type": "code",
   "execution_count": 6,
   "metadata": {},
   "outputs": [
    {
     "data": {
      "text/plain": [
       "True"
      ]
     },
     "execution_count": 6,
     "metadata": {},
     "output_type": "execute_result"
    }
   ],
   "source": [
    "# test\n",
    "admittance(1.0,1.0,0.0*np.pi/180)==(Y0,Y0)"
   ]
  },
  {
   "attachments": {},
   "cell_type": "markdown",
   "metadata": {},
   "source": [
    "## 位相差\n",
    "$$\n",
    "2\\delta = \\frac{4\\pi}{\\lambda}nd\\cos\\phi\n",
    "$$"
   ]
  },
  {
   "cell_type": "code",
   "execution_count": 7,
   "metadata": {},
   "outputs": [],
   "source": [
    "# code\n",
    "def phasedifference(n,d,phi,lm):\n",
    "    return 2*np.pi*n*d*np.cos(phi)/lm"
   ]
  },
  {
   "cell_type": "code",
   "execution_count": 8,
   "metadata": {},
   "outputs": [
    {
     "data": {
      "text/plain": [
       "3.141592653589793"
      ]
     },
     "execution_count": 8,
     "metadata": {},
     "output_type": "execute_result"
    }
   ],
   "source": [
    "# test\n",
    "phasedifference(2.0,125,0,500)"
   ]
  },
  {
   "attachments": {},
   "cell_type": "markdown",
   "metadata": {},
   "source": [
    "## 特性マトリクス\n",
    "$$\n",
    "M_{i} = \\left(\n",
    "\\begin{array}{cc}\n",
    "\\cos\\delta_{i} & i\\eta_{i}^{-1}\\sin\\delta_{i} \\\\\n",
    "i\\eta_{i}\\sin\\delta_{i} & \\cos\\delta_{i}\n",
    "\\end{array}\n",
    "\\right)\n",
    "$$\n"
   ]
  },
  {
   "cell_type": "code",
   "execution_count": 9,
   "metadata": {},
   "outputs": [],
   "source": [
    "# code\n",
    "def characteristic_matrix(n,d,n0,angle,lam):\n",
    "    eta = admittance(n,n0,angle)\n",
    "    phi = snell(n,n0,angle)\n",
    "    delta = phasedifference(n,d,phi,lam)\n",
    "    c = np.cos(delta)\n",
    "    s = np.sin(delta)\n",
    "    def _matrix(et):\n",
    "        return (np.array([[c,1j*s/et],[1j*s*et,c]]))\n",
    "    return tuple(map(_matrix, eta))"
   ]
  },
  {
   "cell_type": "code",
   "execution_count": 10,
   "metadata": {},
   "outputs": [
    {
     "data": {
      "text/plain": [
       "(array([[0.84125353+0.00000000e+00j, 0.        +2.03675785e+02j],\n",
       "        [0.        +1.43508711e-03j, 0.84125353+0.00000000e+00j]]),\n",
       " array([[0.84125353+0.00000000e+00j, 0.        +2.03675785e+02j],\n",
       "        [0.        +1.43508711e-03j, 0.84125353+0.00000000e+00j]]))"
      ]
     },
     "execution_count": 10,
     "metadata": {},
     "output_type": "execute_result"
    }
   ],
   "source": [
    "# test\n",
    "characteristic_matrix(1.0,50,1.0,0,550)"
   ]
  },
  {
   "attachments": {},
   "cell_type": "markdown",
   "metadata": {},
   "source": [
    "## 反射\n",
    "$$\n",
    "R = \\left|\\frac{\\eta_{0}B-C}{\\eta_{0}B+C}\\right|^{2}\n",
    "$$"
   ]
  },
  {
   "cell_type": "code",
   "execution_count": 11,
   "metadata": {},
   "outputs": [],
   "source": [
    "# code\n",
    "def reflectance(param, eta0):\n",
    "    def _reflectance(param, eta0):\n",
    "        return (np.abs((eta0*param[0]-param[1])/(eta0*param[0]+param[1]))**2)[0]\n",
    "    return tuple(map(_reflectance,param,eta0))"
   ]
  },
  {
   "cell_type": "code",
   "execution_count": 12,
   "metadata": {},
   "outputs": [
    {
     "data": {
      "text/plain": [
       "(0.040000000000000015, 0.040000000000000015)"
      ]
     },
     "execution_count": 12,
     "metadata": {},
     "output_type": "execute_result"
    }
   ],
   "source": [
    "# test\n",
    "eta0 = admittance(1.0,1.0,0)\n",
    "eta = admittance(1.5,1.0,0)\n",
    "param = (np.array([[1],[eta[0]]]),np.array([[1],[eta[1]]]))\n",
    "ref= reflectance(param,eta0)\n",
    "#np.isclose(ref,(0.04,0.04))\n",
    "ref"
   ]
  },
  {
   "attachments": {},
   "cell_type": "markdown",
   "metadata": {},
   "source": [
    "## マトリクス法\n",
    "$$\n",
    "\\left(\\begin{array}{c}\n",
    "    B \\\\\n",
    "    C\n",
    "\\end{array}\\right) = \n",
    "\\prod_{i=1}^{n}M_{i}\n",
    "\\left(\\begin{array}{c}\n",
    "    1 \\\\\n",
    "    \\eta_{s}\n",
    "\\end{array}\\right)\n",
    "$$"
   ]
  },
  {
   "cell_type": "code",
   "execution_count": 13,
   "metadata": {},
   "outputs": [],
   "source": [
    "# code\n",
    "def calc_matrix(layers,n0,angle,lam):\n",
    "    mat = (np.eye(2),np.eye(2))\n",
    "    for layer in layers:\n",
    "        mat = tuple(map(lambda m1,m2:np.dot(m1,m2),mat,characteristic_matrix(layer[lam],layer['d'],n0[lam],angle,lam)))\n",
    "    return mat"
   ]
  },
  {
   "cell_type": "code",
   "execution_count": 14,
   "metadata": {},
   "outputs": [
    {
     "data": {
      "text/plain": [
       "(0.040000000000000036, 0.040000000000000036)"
      ]
     },
     "execution_count": 14,
     "metadata": {},
     "output_type": "execute_result"
    }
   ],
   "source": [
    "# test\n",
    "n0 = {550:1.0}\n",
    "n_sub = {550:1.5}\n",
    "layers =[{'d':100, 550:1.0},{'d':100, 550:1.5}]\n",
    "lam = 550\n",
    "\n",
    "mat = calc_matrix(layers,n0,0,lam)\n",
    "\n",
    "eta_sub= admittance(n_sub[lam],n0[lam],0.0)\n",
    "vec = (np.array([[1],[eta_sub[0]]]),np.array([[1],[eta_sub[1]]]))\n",
    "param = tuple(map(lambda m,v:np.dot(m,v),mat,vec))\n",
    "\n",
    "eta0= admittance(n0[lam],n0[lam],0.0)\n",
    "reflectance(param,eta0)"
   ]
  },
  {
   "attachments": {},
   "cell_type": "markdown",
   "metadata": {},
   "source": [
    "## 透過\n",
    "$$\n",
    "T = \\frac{4\\eta_{0}\\Re(\\eta_{s})}{\\left|\\eta_{0}B+C\\right|^{2}}\n",
    "$$"
   ]
  },
  {
   "cell_type": "code",
   "execution_count": 15,
   "metadata": {},
   "outputs": [],
   "source": [
    "# code\n",
    "def transmittance(param,eta0,eta_s):\n",
    "    def _transmittance(param,eta0,eta_s):\n",
    "        return (4*eta0*eta_s.real/np.abs(eta0*param[0]+param[1])**2)[0]\n",
    "    return tuple(map(_transmittance, param, eta0,eta_s))"
   ]
  },
  {
   "cell_type": "code",
   "execution_count": 16,
   "metadata": {},
   "outputs": [
    {
     "data": {
      "text/plain": [
       "(0.9600000000000001, 0.9600000000000001)"
      ]
     },
     "execution_count": 16,
     "metadata": {},
     "output_type": "execute_result"
    }
   ],
   "source": [
    "# test\n",
    "n0 = {550:1.0}\n",
    "n_sub = {550:1.5}\n",
    "layers =[{'d':100, 550:1.0},{'d':100, 550:1.5}]\n",
    "lam = 550\n",
    "\n",
    "mat = calc_matrix(layers,n0,0,lam)\n",
    "\n",
    "eta_sub= admittance(n_sub[lam],n0[lam],0.0)\n",
    "vec = (np.array([[1],[eta_sub[0]]]),np.array([[1],[eta_sub[1]]]))\n",
    "param = tuple(map(lambda m,v:np.dot(m,v),mat,vec))\n",
    "\n",
    "eta0= admittance(n0[lam],n0[lam],0.0)\n",
    "transmittance(param,eta0,eta_sub)"
   ]
  }
 ],
 "metadata": {
  "kernelspec": {
   "display_name": ".venv",
   "language": "python",
   "name": "python3"
  },
  "language_info": {
   "codemirror_mode": {
    "name": "ipython",
    "version": 3
   },
   "file_extension": ".py",
   "mimetype": "text/x-python",
   "name": "python",
   "nbconvert_exporter": "python",
   "pygments_lexer": "ipython3",
   "version": "3.9.9"
  },
  "orig_nbformat": 4,
  "vscode": {
   "interpreter": {
    "hash": "6b151670b8be7ebcfea0b711d744efb89439417d3fd860d2d20faf141d62d96a"
   }
  }
 },
 "nbformat": 4,
 "nbformat_minor": 2
}
