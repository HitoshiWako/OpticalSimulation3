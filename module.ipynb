{
 "cells": [
  {
   "attachments": {},
   "cell_type": "markdown",
   "metadata": {},
   "source": [
    "# 光学シミュレーション"
   ]
  },
  {
   "attachments": {},
   "cell_type": "markdown",
   "metadata": {},
   "source": [
    "## 参考文献\n",
    "- [光学機能性フィルムのシミュレーションによる設計と実験的検証](https://www.kobelco.co.jp/technology-review/pdf/65_2/050-053.pdf)\n",
    "- [光学薄膜の分光特性シミュレーション](https://www.jstage.jst.go.jp/article/sfj1989/48/9/48_9_890/_pdf)\n",
    "- [基礎物理定数|ウシオ電機](https://www.ushio.co.jp/jp/technology/glossary/material/attached_material_03.html)"
   ]
  },
  {
   "attachments": {},
   "cell_type": "markdown",
   "metadata": {},
   "source": [
    "## スネルの法則\n",
    "$$\n",
    "n_{0}\\sin\\theta_{0}=n_{1}\\sin\\theta_{1} \\\\\n",
    "\\theta_{1} = \\sin^{-1}\\left(\\frac{n_{0}}{n_{1}}\\sin\\theta_{0}\\right)\n",
    "$$ "
   ]
  },
  {
   "cell_type": "code",
   "execution_count": 1,
   "metadata": {},
   "outputs": [],
   "source": [
    "# import\n",
    "import numpy as np\n",
    "from copy import copy"
   ]
  },
  {
   "cell_type": "code",
   "execution_count": 2,
   "metadata": {},
   "outputs": [],
   "source": [
    "# code\n",
    "def snell(n1,n0,theta):\n",
    "    return np.arcsin(n0.real/n1.real*np.sin(theta))\n"
   ]
  },
  {
   "cell_type": "code",
   "execution_count": 3,
   "metadata": {},
   "outputs": [
    {
     "data": {
      "text/plain": [
       "0.0"
      ]
     },
     "execution_count": 3,
     "metadata": {},
     "output_type": "execute_result"
    }
   ],
   "source": [
    "# test\n",
    "snell(1+1j,1,0)"
   ]
  },
  {
   "attachments": {},
   "cell_type": "markdown",
   "metadata": {},
   "source": [
    "## 光学アドミタンス\n",
    "$$\n",
    "\\eta =\n",
    "\\left\\{\n",
    "    \\begin{array}{ll}\n",
    "        Y_{0}n\\cos\\phi & \\text{s偏光} \\\\\n",
    "        \\displaystyle\\frac{Y_{0}n}{\\cos\\phi} & \\text{p偏光}\n",
    "    \\end{array}\n",
    "\\right.\n",
    "$$\n",
    "ここで$Y_{0}$は真空の光学アドミタンスであり\n",
    "$$\n",
    "Y_{0} =\\sqrt{\\frac{\\epsilon_{0}}{\\mu_{0}}}\n",
    "$$\n",
    "$\\epsilon_{0}$:真空の誘電率、$\\mu_{0}$:真空の透磁率である。\n",
    "\n"
   ]
  },
  {
   "cell_type": "code",
   "execution_count": 4,
   "metadata": {},
   "outputs": [],
   "source": [
    "# Constants\n",
    "EPS = 8.8541878128e-12\n",
    "MU = 1.25663706212e-6\n",
    "Y0 = np.sqrt(EPS/MU)"
   ]
  },
  {
   "cell_type": "code",
   "execution_count": 5,
   "metadata": {},
   "outputs": [],
   "source": [
    "# code\n",
    "def admittance(n1,n0,theta):\n",
    "    phi = snell(n1,n0,theta)\n",
    "    return (Y0*n1*np.cos(phi), Y0*n1/np.cos(phi))"
   ]
  },
  {
   "cell_type": "code",
   "execution_count": 6,
   "metadata": {},
   "outputs": [
    {
     "data": {
      "text/plain": [
       "True"
      ]
     },
     "execution_count": 6,
     "metadata": {},
     "output_type": "execute_result"
    }
   ],
   "source": [
    "# test\n",
    "admittance(1.0,1.0,0.0*np.pi/180)==(Y0,Y0)"
   ]
  },
  {
   "attachments": {},
   "cell_type": "markdown",
   "metadata": {},
   "source": [
    "## 位相差\n",
    "$$\n",
    "2\\delta = \\frac{4\\pi}{\\lambda}nd\\cos\\phi\n",
    "$$"
   ]
  },
  {
   "cell_type": "code",
   "execution_count": 7,
   "metadata": {},
   "outputs": [],
   "source": [
    "# code\n",
    "def phasedifference(n,d,phi,lm):\n",
    "    return 2*np.pi*n*d*np.cos(phi)/lm"
   ]
  },
  {
   "cell_type": "code",
   "execution_count": 8,
   "metadata": {},
   "outputs": [
    {
     "data": {
      "text/plain": [
       "3.141592653589793"
      ]
     },
     "execution_count": 8,
     "metadata": {},
     "output_type": "execute_result"
    }
   ],
   "source": [
    "# test\n",
    "phasedifference(2.0,125,0,500)"
   ]
  },
  {
   "attachments": {},
   "cell_type": "markdown",
   "metadata": {},
   "source": [
    "## 特性マトリクス\n",
    "$$\n",
    "M_{i} = \\left(\n",
    "\\begin{array}{cc}\n",
    "\\cos\\delta_{i} & i\\eta_{i}^{-1}\\sin\\delta_{i} \\\\\n",
    "i\\eta_{i}\\sin\\delta_{i} & \\cos\\delta_{i}\n",
    "\\end{array}\n",
    "\\right)\n",
    "$$\n"
   ]
  },
  {
   "cell_type": "code",
   "execution_count": 9,
   "metadata": {},
   "outputs": [],
   "source": [
    "# code\n",
    "def characteristic_matrix(n,d,n0,angle,lam):\n",
    "    eta = admittance(n,n0,angle)\n",
    "    phi = snell(n,n0,angle)\n",
    "    delta = phasedifference(n,d,phi,lam)\n",
    "    c = np.cos(delta)\n",
    "    s = np.sin(delta)\n",
    "    def _matrix(et):\n",
    "        return (np.array([[c,1j*s/et],[1j*s*et,c]]))\n",
    "    return tuple(map(_matrix, eta))"
   ]
  },
  {
   "cell_type": "code",
   "execution_count": 10,
   "metadata": {},
   "outputs": [
    {
     "data": {
      "text/plain": [
       "(array([[0.84125353+0.00000000e+00j, 0.        +2.03675785e+02j],\n",
       "        [0.        +1.43508711e-03j, 0.84125353+0.00000000e+00j]]),\n",
       " array([[0.84125353+0.00000000e+00j, 0.        +2.03675785e+02j],\n",
       "        [0.        +1.43508711e-03j, 0.84125353+0.00000000e+00j]]))"
      ]
     },
     "execution_count": 10,
     "metadata": {},
     "output_type": "execute_result"
    }
   ],
   "source": [
    "# test\n",
    "characteristic_matrix(1.0,50,1.0,0,550)"
   ]
  },
  {
   "attachments": {},
   "cell_type": "markdown",
   "metadata": {},
   "source": [
    "## 反射\n",
    "$$\n",
    "R = \\left|\\frac{\\eta_{0}B-C}{\\eta_{0}B+C}\\right|^{2}\n",
    "$$"
   ]
  },
  {
   "cell_type": "code",
   "execution_count": 11,
   "metadata": {},
   "outputs": [],
   "source": [
    "# code\n",
    "def reflectance(param, eta0):\n",
    "    def _reflectance(param, eta0):\n",
    "        return (np.abs((eta0*param[0]-param[1])/(eta0*param[0]+param[1]))**2)[0]\n",
    "    return tuple(map(_reflectance,param,eta0))"
   ]
  },
  {
   "cell_type": "code",
   "execution_count": 12,
   "metadata": {},
   "outputs": [
    {
     "data": {
      "text/plain": [
       "(0.040000000000000015, 0.040000000000000015)"
      ]
     },
     "execution_count": 12,
     "metadata": {},
     "output_type": "execute_result"
    }
   ],
   "source": [
    "# test\n",
    "eta0 = admittance(1.0,1.0,0)\n",
    "eta = admittance(1.5,1.0,0)\n",
    "param = (np.array([[1],[eta[0]]]),np.array([[1],[eta[1]]]))\n",
    "ref= reflectance(param,eta0)\n",
    "#np.isclose(ref,(0.04,0.04))\n",
    "ref"
   ]
  },
  {
   "attachments": {},
   "cell_type": "markdown",
   "metadata": {},
   "source": [
    "## マトリクス法\n",
    "$$\n",
    "\\left(\\begin{array}{c}\n",
    "    B \\\\\n",
    "    C\n",
    "\\end{array}\\right) = \n",
    "\\prod_{i=1}^{n}M_{i}\n",
    "\\left(\\begin{array}{c}\n",
    "    1 \\\\\n",
    "    \\eta_{s}\n",
    "\\end{array}\\right)\n",
    "$$"
   ]
  },
  {
   "cell_type": "code",
   "execution_count": 13,
   "metadata": {},
   "outputs": [],
   "source": [
    "# code\n",
    "def calc_matrix(ns,ds,n0,angle,lam):\n",
    "    mat = (np.eye(2),np.eye(2))\n",
    "    for n,d in zip(ns,ds):\n",
    "        mat = tuple(map(lambda m1,m2:np.dot(m1,m2),mat,characteristic_matrix(n,d,n0,angle,lam)))\n",
    "    return mat"
   ]
  },
  {
   "cell_type": "code",
   "execution_count": 14,
   "metadata": {},
   "outputs": [
    {
     "data": {
      "text/plain": [
       "(0.040000000000000036, 0.040000000000000036)"
      ]
     },
     "execution_count": 14,
     "metadata": {},
     "output_type": "execute_result"
    }
   ],
   "source": [
    "# test\n",
    "n0 = 1.0\n",
    "n_sub = 1.5\n",
    "ns = [1.0,1.5]\n",
    "ds = [100,100]\n",
    "theta = 0*np.pi/180\n",
    "lam = 550\n",
    "\n",
    "mat = calc_matrix(ns,ds,n0,theta,lam)\n",
    "\n",
    "eta_sub= admittance(n_sub,n0,theta)\n",
    "vec = (np.array([[1],[eta_sub[0]]]),np.array([[1],[eta_sub[1]]]))\n",
    "param = tuple(map(lambda m,v:np.dot(m,v),mat,vec))\n",
    "\n",
    "eta0= admittance(n0,n0,0.0)\n",
    "reflectance(param,eta0)"
   ]
  },
  {
   "attachments": {},
   "cell_type": "markdown",
   "metadata": {},
   "source": [
    "## 透過\n",
    "$$\n",
    "T = \\frac{4\\eta_{0}\\Re(\\eta_{s})}{\\left|\\eta_{0}B+C\\right|^{2}}\n",
    "$$"
   ]
  },
  {
   "cell_type": "code",
   "execution_count": 15,
   "metadata": {},
   "outputs": [],
   "source": [
    "# code\n",
    "def transmittance(param,eta0,eta1):\n",
    "    def _transmittance(param,eta0,eta1):\n",
    "        return (4*eta0.real*eta1.real/np.abs(eta0*param[0]+param[1])**2)[0]\n",
    "    return tuple(map(_transmittance, param, eta0, eta1))"
   ]
  },
  {
   "cell_type": "code",
   "execution_count": 16,
   "metadata": {},
   "outputs": [
    {
     "data": {
      "text/plain": [
       "(0.9600000000000001, 0.9600000000000001)"
      ]
     },
     "execution_count": 16,
     "metadata": {},
     "output_type": "execute_result"
    }
   ],
   "source": [
    "# test\n",
    "n0 = 1.0\n",
    "n_sub = 1.5\n",
    "ns = [1.0,1.5]\n",
    "ds = [100,100]\n",
    "theta = 0*np.pi/180\n",
    "lam = 550\n",
    "\n",
    "mat = calc_matrix(ns,ds,n0,theta,lam)\n",
    "\n",
    "eta_sub= admittance(n_sub,n0,theta)\n",
    "vec = (np.array([[1],[eta_sub[0]]]),np.array([[1],[eta_sub[1]]]))\n",
    "param = tuple(map(lambda m,v:np.dot(m,v),mat,vec))\n",
    "\n",
    "eta0= admittance(n0,n0,0.0)\n",
    "transmittance(param,eta0,eta_sub)"
   ]
  },
  {
   "attachments": {},
   "cell_type": "markdown",
   "metadata": {},
   "source": [
    "## ベクトル化\n"
   ]
  },
  {
   "cell_type": "code",
   "execution_count": 17,
   "metadata": {},
   "outputs": [],
   "source": [
    "def calc_matrix(ns,ds,n0,n1,theta,lam):\n",
    "    length = len(lam)\n",
    "    eta = admittance(n1,n0,theta)\n",
    "    \n",
    "    v_s = tuple([np.array([np.ones(length),eta[0]]),\n",
    "                 np.array([np.ones(length),eta[1]])])\n",
    "    \n",
    "    mat = tuple([np.array([[np.ones(length),np.zeros(length)],[np.zeros(length),np.ones(length)]]),\n",
    "                 np.array([[np.ones(length),np.zeros(length)],[np.zeros(length),np.ones(length)]])])\n",
    "    for n,d in zip(ns,ds):\n",
    "        m = characteristic_matrix(n, d, n0,theta,lam)\n",
    "        mat = tuple([np.array([[mat[0][0,0]*m[0][0,0]+mat[0][0,1]*m[0][1,0], mat[0][0,0]*m[0][0,1]+mat[0][0,1]*m[0][1,1]],\n",
    "                               [mat[0][1,0]*m[0][0,0]+mat[0][1,1]*m[0][1,0], mat[0][1,0]*m[0][0,1]+mat[0][1,1]*m[0][1,1]]]),\n",
    "                     np.array([[mat[1][0,0]*m[1][0,0]+mat[1][0,1]*m[1][1,0], mat[1][0,0]*m[1][0,1]+mat[1][0,1]*m[1][1,1]],\n",
    "                               [mat[1][1,0]*m[1][0,0]+mat[1][1,1]*m[1][1,0], mat[1][1,0]*m[1][0,1]+mat[1][1,1]*m[1][1,1]]])])\n",
    "\n",
    "    param = tuple([np.array([[mat[0][0,0]*v_s[0][0]+mat[0][0,1]*v_s[0][1]],[mat[0][1,0]*v_s[0][0]+mat[0][1,1]*v_s[0][1]]]),\n",
    "                   np.array([[mat[1][0,0]*v_s[1][0]+mat[1][0,1]*v_s[1][1]],[mat[1][1,0]*v_s[1][0]+mat[1][1,1]*v_s[1][1]]])])\n",
    "    return param"
   ]
  },
  {
   "cell_type": "code",
   "execution_count": 18,
   "metadata": {},
   "outputs": [
    {
     "name": "stdout",
     "output_type": "stream",
     "text": [
      "(array([0.03949384, 0.01877527, 0.02192589]), array([0.03949384, 0.01877527, 0.02192589]))\n",
      "(array([0.96050616, 0.98122473, 0.97807411]), array([0.96050616, 0.98122473, 0.97807411]))\n"
     ]
    }
   ],
   "source": [
    "n0 = 1.0\n",
    "nl = np.array([1.5,1.5,1.5])\n",
    "nh = np.array([2.3,2.3,2.3])\n",
    "lam = np.array([500,550,600])\n",
    "theta = 0*np.pi/180\n",
    "\n",
    "ns = [nl,nh,nl,nh]\n",
    "ds = [90,90,30,30]\n",
    "\n",
    "eta0 = admittance(n0,n0,theta)\n",
    "eta_s = admittance(nl,n0,theta)\n",
    "param = calc_matrix(ns,ds,n0,nl,theta,lam)\n",
    "print(reflectance(param,eta0))\n",
    "print(transmittance(param,eta0,eta_s))"
   ]
  },
  {
   "attachments": {},
   "cell_type": "markdown",
   "metadata": {},
   "source": [
    "## 有限厚みの基板\n",
    "<div align=\"center\">\n",
    "\n",
    "![反射](svg/reflect.drawio.svg)  \n",
    "\n",
    "</div>\n",
    "\n",
    "反射率は\n",
    "$$\n",
    "\\begin{align*}\n",
    "R &= r_{01}+t_{01}r_{12}t_{10}+t_{01}r_{12}r_{10}r_{12}t_{10}+t_{01}r_{12}r_{10}r_{12}r_{10}r_{12}t_{10}+\\cdots \\\\\n",
    "  &= r_{01}+t_{01}r_{12}t_{10}+t_{01}r_{12}t_{10}(r_{10}r_{12})+t_{01}r_{12}t_{10}(r_{10}r_{12})^{2}+\\cdots \\\\\n",
    "  &= r_{01}+\\sum_{n=1}^{\\infty}t_{01}r_{12}t_{10}(r_{10}r_{12})^{n-1} \\\\\n",
    "  &= r_{01}+\\frac{t_{01}r_{12}t_{10}}{1-r_{10}r_{12}}\n",
    "\\end{align*}\n",
    "$$\n",
    "同様に透過率は\n",
    "$$\n",
    "\\begin{align*}\n",
    "T &= t_{01}t_{12}+t_{01}r_{12}r_{10}t_{12}+t_{01}r_{12}r_{10}r_{12}r_{10}t_{12}+\\cdots \\\\\n",
    "  &= t_{01}t_{12}+t_{01}t_{12}(r_{12}r_{10})+t_{01}t_{12}(r_{12}r_{10})^{2}+\\cdots \\\\\n",
    "  &= \\sum_{n=1}^{\\infty}t_{01}t_{12}(r_{12}r_{10})^{n-1} \\\\\n",
    "  &= \\frac{t_{01}t_{12}}{1-r_{12}r_{10}}\n",
    "\n",
    "\\end{align*}\n",
    "$$\n",
    "$$\n",
    "r_{ij}=\\left|\\frac{\\eta_{i}-\\eta_{j}}{\\eta_{i}+\\eta_{j}}\\right|^{2} \\\\\n",
    "r_{ij}+t_{ij} = 1\n",
    "$$\n",
    "なので\n",
    "$$\n",
    "r_{ij} = r_{ji} \\\\\n",
    "t_{ij} = 1- r_{ij}\n",
    "$$\n",
    "結果として反射率は\n",
    "$$\n",
    "R = r_{01}+\\frac{(1-r_{01})^{2}r_{12}}{1-{r_{01}r_{12}}} = \\frac{r_{01}+r_{12}-2r_{01}r_{12}}{1-r_{01}r_{12}}\n",
    "$$\n",
    "透過率は\n",
    "$$\n",
    "T = \\frac{1-(r_{01}+r_{12})+r_{01}r_{12}}{1-r_{01}r_{12}}\n",
    "$$"
   ]
  },
  {
   "cell_type": "code",
   "execution_count": 19,
   "metadata": {},
   "outputs": [
    {
     "name": "stdout",
     "output_type": "stream",
     "text": [
      "(array([0.1011236 , 0.08890522, 0.07692308]), array([0.1011236 , 0.08890522, 0.07692308]))\n",
      "(array([0.90172051, 0.91326364, 0.92467949]), array([0.90172051, 0.91326364, 0.92467949]))\n"
     ]
    }
   ],
   "source": [
    "n0 = 1.0\n",
    "n1 = np.array([1.6,1.55,1.50])\n",
    "n2 = 1.0\n",
    "theta = 0*np.pi/180\n",
    "eta0 = admittance(n0,n0,theta)\n",
    "eta1 = admittance(n1,n0,theta)\n",
    "eta2 = admittance(n2,n0,theta)\n",
    "r01 = (np.abs((eta0[0]-eta1[0])/(eta0[0]+eta1[0]))**2, np.abs((eta0[1]-eta1[1])/(eta0[1]+eta1[1]))**2)\n",
    "r12 = (np.abs((eta1[0]-eta2[0])/(eta1[0]+eta2[0]))**2, np.abs((eta1[1]-eta2[1])/(eta1[1]+eta2[1]))**2)\n",
    "r = ((r01[0]+r12[0]-2*r01[0]*r12[0])/(1-r01[0]*r12[0]),(r01[1]+r12[1]-2*r01[1]*r12[1])/(1-r01[1]*r12[1]))\n",
    "t = ((1-(r01[0]+r12[0])+2*r01[0]*r12[0])/(1-r01[0]*r12[0]),(1-(r01[1]+r12[1])+2*r01[1]*r12[1])/(1-r01[1]*r12[1]))\n",
    "print(r)\n",
    "print(t)"
   ]
  },
  {
   "attachments": {},
   "cell_type": "markdown",
   "metadata": {},
   "source": [
    "## 有限厚みの基板（吸収を考慮）\n",
    "<div align=\"center\">\n",
    "\n",
    "![反射](svg/reflect.drawio.svg)  \n",
    "\n",
    "</div>\n",
    "\n",
    "光路長は\n",
    "$$\n",
    "l = \\frac{2d}{\\cos\\phi}\n",
    "$$\n",
    "吸収係数は\n",
    "$$\n",
    "\\alpha = \\frac{8\\pi k}{\\lambda}\n",
    "$$\n",
    "なので\n",
    "$$\n",
    "I = I_{0}e^{-i\\alpha l} = I_{0}\\exp\\left(-\\frac{8\\pi kd}{\\lambda\\cos\\phi}\\right)\n",
    "$$\n",
    "この時\n",
    "$$\n",
    "\\beta = \\exp\\left(-\\frac{8\\pi kd}{\\lambda\\cos\\phi}\\right)\n",
    "$$\n",
    "とすると、反射率は\n",
    "$$\n",
    "\\begin{align*}\n",
    "R &= r_{01}+t_{01}r_{12}t_{10}\\beta+t_{01}r_{12}r_{10}r_{12}t_{10}\\beta^{2}+t_{01}r_{12}r_{10}r_{12}r_{10}r_{12}t_{10}\\beta^{3}+\\cdots \\\\\n",
    "  &= r_{01}+t_{01}r_{12}t_{10}\\beta+t_{01}r_{12}t_{10}\\beta(r_{10}r_{12}\\beta)+t_{01}r_{12}t_{10}\\beta(r_{10}r_{12}\\beta)^{2}+\\cdots \\\\\n",
    "  &= r_{01}+\\sum_{n=1}^{\\infty}t_{01}r_{12}t_{10}\\beta(r_{10}r_{12}\\beta)^{n-1} \\\\\n",
    "  &= r_{01}+\\frac{t_{01}r_{12}t_{10}\\beta}{1-r_{10}r_{12}\\beta}\n",
    "\\end{align*}\n",
    "$$\n",
    "同様に透過率は\n",
    "$$\n",
    "\\begin{align*}\n",
    "T &= t_{01}t_{12}\\beta^{1/2}+t_{01}r_{12}r_{10}t_{12}\\beta^{3/2}+t_{01}r_{12}r_{10}r_{12}r_{10}t_{12}\\beta^{5/2}+\\cdots \\\\\n",
    "  &= t_{01}t_{12}\\beta^{1/2}+t_{01}t_{12}\\beta^{1/2}(r_{12}r_{10}\\beta)+t_{01}t_{12}\\beta^{1/2}(r_{12}r_{10}\\beta)^{2}+\\cdots \\\\\n",
    "  &= \\sum_{n=1}^{\\infty}t_{01}t_{12}\\beta^{1/2}(r_{12}r_{10}\\beta)^{n-1} \\\\\n",
    "  &= \\frac{t_{01}t_{12}\\beta^{1/2}}{1-r_{12}r_{10}\\beta}\n",
    "\\end{align*}\n",
    "$$\n",
    "吸収が無い場合と同様に考えると反射率は\n",
    "$$\n",
    "R = r_{01}+\\frac{(1-r_{01})^{2}r_{12}\\beta}{1-{r_{01}r_{12}\\beta}} = \\frac{r_{01}+r_{12}\\beta-2r_{01}r_{12}\\beta}{1-r_{01}r_{12}\\beta}\n",
    "$$\n",
    "透過率は\n",
    "$$\n",
    "T = \\frac{(1-(r_{01}+r_{12})+r_{01}r_{12})\\beta^{1/2}}{1-r_{01}r_{12}\\beta}\n",
    "$$"
   ]
  },
  {
   "cell_type": "code",
   "execution_count": 20,
   "metadata": {},
   "outputs": [],
   "source": [
    "def absorb(n1,d,n0,theta,lam):\n",
    "    phi = snell(n1,n0,theta)\n",
    "    return np.exp(-8*np.pi*np.abs(n1.imag)*d*1000/(lam*np.cos(phi)))"
   ]
  },
  {
   "cell_type": "code",
   "execution_count": 21,
   "metadata": {},
   "outputs": [
    {
     "name": "stdout",
     "output_type": "stream",
     "text": [
      "(0.8600323956870074, 0.6532812621599582)\n",
      "(1.461873501203525, 0.6524263532069948)\n",
      "0.9941774579275747\n",
      "0.0028326873245643203\n"
     ]
    }
   ],
   "source": [
    "n0 = 1.0\n",
    "n1 = 1.6+0.000001j\n",
    "n2 = 1.0\n",
    "theta = 85*np.pi/180\n",
    "d = 100\n",
    "lam = 550\n",
    "beta = absorb(n1,d,n0,theta,lam)\n",
    "\n",
    "eta0 = admittance(n0,n0,theta)\n",
    "eta1 = admittance(n1,n0,theta)\n",
    "eta2 = admittance(n2,n0,theta)\n",
    "r01 = (np.abs((eta0[0]-eta1[0])/(eta0[0]+eta1[0]))**2, np.abs((eta0[1]-eta1[1])/(eta0[1]+eta1[1]))**2)\n",
    "r12 = (np.abs((eta1[0]-eta2[0])/(eta1[0]+eta2[0]))**2, np.abs((eta1[1]-eta2[1])/(eta1[1]+eta2[1]))**2)\n",
    "r = ((r01[0]+r12[0]*beta-2*r01[0]*r12[0]*beta)/(1-r01[0]*r12[0]*beta),\n",
    "     (r01[1]+r12[1]*beta-2*r01[1]*r12[1]*beta)/(1-r01[1]*r12[1]*beta))\n",
    "t = ((1-(r01[0]+r12[0])+2*r01[0]*r12[0])*np.sqrt(beta)/(1-r01[0]*r12[0]*beta),\n",
    "     (1-(r01[1]+r12[1])+2*r01[1]*r12[1])*np.sqrt(beta)/(1-r01[1]*r12[1]*beta))\n",
    "print(r)\n",
    "print(t)\n",
    "print(beta)\n",
    "print(r01[1]-r12[1]*beta)"
   ]
  },
  {
   "attachments": {},
   "cell_type": "markdown",
   "metadata": {},
   "source": [
    "## 基板に薄膜がついている場合\n",
    "基板のみの場合から\n",
    "$$\n",
    "R = r_{01}+\\frac{t_{01}r_{12}t_{10}\\beta}{1-r_{10}r_{12}\\beta} \\\\[10pt]\n",
    "T = \\frac{t_{01}t_{12}\\beta^{1/2}}{1-r_{10}r_{12}\\beta}\n",
    "$$\n",
    "\n",
    "それぞれ  \n",
    "<div align=\"center\">\n",
    "\n",
    "|表記|入射|多層膜|出射|\n",
    "|-|-|-|-|\n",
    "|$r_{01}$|媒質0|表面側（正順）|媒質1|\n",
    "|$r_{10}$|媒質1|表面側（逆順）|媒質0|\n",
    "|$r_{12}$|媒質1|裏面側（逆順）|媒質2|\n",
    "|$t_{01}$|媒質0|表面側（正順）|媒質1|\n",
    "|$t_{10}$|媒質1|表面側（逆順）|媒質0|\n",
    "|$t_{12}$|媒質1|裏面側（逆順）|媒質2|\n",
    "\n",
    "</div>"
   ]
  },
  {
   "cell_type": "code",
   "execution_count": 22,
   "metadata": {},
   "outputs": [],
   "source": [
    "def calc_spectra(n0,n1,n2,theta,front_ns,front_ds,back_ns,back_ds,t_sub, lam):\n",
    "     f_ns = copy(front_ns)\n",
    "     f_ds = copy(front_ds)\n",
    "     b_ns = copy(back_ns)\n",
    "     b_ds = copy(back_ds)\n",
    "     \n",
    "     phi1 = snell(n1,n0,theta)\n",
    "     # phi2 = snell(n2,n0,theta)\n",
    "    \n",
    "     eta0 = admittance(n0,n0,theta)\n",
    "     eta1 = admittance(n1,n0,theta)\n",
    "     eta2 = admittance(n2,n0,theta)\n",
    "     \n",
    "     front_forward = calc_matrix(f_ns,f_ds,n0,n1,theta,lam)\n",
    "     f_ns.reverse()\n",
    "     f_ds.reverse()\n",
    "     front_backward = calc_matrix(f_ns,f_ds,n1,n0,phi1,lam)\n",
    "     \n",
    "     # back_forward = calc_matrix(b_ns,b_ds,n2,n1,phi2,lam)\n",
    "     b_ns.reverse()\n",
    "     b_ds.reverse()\n",
    "     back_backward = calc_matrix(b_ns,b_ds,n1,n2,phi1,lam)\n",
    "     \n",
    "     r01 = reflectance(front_forward,eta0)\n",
    "     r10 = reflectance(front_backward,eta1)\n",
    "     t01 = transmittance(front_forward,eta0,eta1)\n",
    "     t10 = transmittance(front_backward,eta1,eta0)\n",
    "     \n",
    "     r12 = reflectance(back_backward,eta1)\n",
    "     t12 = transmittance(back_backward,eta1,eta2) \n",
    "\n",
    "     beta = absorb(n1,t_sub,n0,theta,lam)\n",
    "\n",
    "     r = (r01[0]+ (t01[0]*r12[0]*t10[0]*beta)/(1-r10[0]*r12[0]*beta), \n",
    "          r01[1]+ (t01[1]*r12[1]*t10[1]*beta)/(1-r10[1]*r12[1]*beta))\n",
    "     t = (t01[0]*t12[0]*np.sqrt(beta)/(1-r10[0]*r12[0]*beta),\n",
    "          t01[1]*t12[1]*np.sqrt(beta)/(1-r10[1]*r12[1]*beta))\n",
    "\n",
    "     return (r01,t01,r,t)"
   ]
  },
  {
   "cell_type": "code",
   "execution_count": 23,
   "metadata": {},
   "outputs": [],
   "source": [
    "n0 = 1.0\n",
    "n1 = np.array([1.5-1e-6j,1.5,1.5])\n",
    "n2 = 1.0\n",
    "nl = np.array([1.5,1.5,1.5])\n",
    "nh = np.array([2.3,2.3,2.3])\n",
    "lam = np.array([500,550,600])\n",
    "\n",
    "theta = 85*np.pi/180\n",
    "\n",
    "t_sub = 100\n",
    "\n",
    "front_ns = [nl,nh,nl,nh]\n",
    "front_ds = [90,90,30,30]\n",
    "\n",
    "back_ns = [nl,nh,nl,nh]\n",
    "back_ds = [90,90,30,30]\n",
    "\n"
   ]
  },
  {
   "cell_type": "code",
   "execution_count": 24,
   "metadata": {},
   "outputs": [
    {
     "data": {
      "text/plain": [
       "((array([0.67677811, 0.71615291, 0.70423883]),\n",
       "  array([0.55704801, 0.52788084, 0.52948574])),\n",
       " (array([0.32322189, 0.28384709, 0.29576117]),\n",
       "  array([0.44295199, 0.47211916, 0.47051426])),\n",
       " (array([0.80563259, 0.83460268, 0.82645556]),\n",
       "  array([0.71398332, 0.69099739, 0.69237094])),\n",
       " (array([0.19103503, 0.16539732, 0.17354444]),\n",
       "  array([0.28267517, 0.30900261, 0.30762906])))"
      ]
     },
     "execution_count": 24,
     "metadata": {},
     "output_type": "execute_result"
    }
   ],
   "source": [
    "calc_spectra(n0,n1,n2,theta,front_ns,front_ds,back_ns,back_ds, t_sub, lam)\n"
   ]
  },
  {
   "cell_type": "code",
   "execution_count": 25,
   "metadata": {},
   "outputs": [],
   "source": [
    "import opticalsimulation.opticalsimulation as op"
   ]
  },
  {
   "cell_type": "code",
   "execution_count": 26,
   "metadata": {},
   "outputs": [
    {
     "data": {
      "text/plain": [
       "((array([0.67677811, 0.71615291, 0.70423883]),\n",
       "  array([0.55704801, 0.52788084, 0.52948574])),\n",
       " (array([0.32322189, 0.28384709, 0.29576117]),\n",
       "  array([0.44295199, 0.47211916, 0.47051426])),\n",
       " (array([0.80563259, 0.83460268, 0.82645556]),\n",
       "  array([0.71398332, 0.69099739, 0.69237094])),\n",
       " (array([0.19103503, 0.16539732, 0.17354444]),\n",
       "  array([0.28267517, 0.30900261, 0.30762906])))"
      ]
     },
     "execution_count": 26,
     "metadata": {},
     "output_type": "execute_result"
    }
   ],
   "source": [
    "op.calc_spectra(n0,n1,n2,theta,front_ns,front_ds,back_ns,back_ds, t_sub, lam)\n"
   ]
  }
 ],
 "metadata": {
  "kernelspec": {
   "display_name": ".venv",
   "language": "python",
   "name": "python3"
  },
  "language_info": {
   "codemirror_mode": {
    "name": "ipython",
    "version": 3
   },
   "file_extension": ".py",
   "mimetype": "text/x-python",
   "name": "python",
   "nbconvert_exporter": "python",
   "pygments_lexer": "ipython3",
   "version": "3.9.9"
  },
  "orig_nbformat": 4,
  "vscode": {
   "interpreter": {
    "hash": "6b151670b8be7ebcfea0b711d744efb89439417d3fd860d2d20faf141d62d96a"
   }
  }
 },
 "nbformat": 4,
 "nbformat_minor": 2
}
