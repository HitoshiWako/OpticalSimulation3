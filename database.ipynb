{
 "cells": [
  {
   "cell_type": "code",
   "execution_count": 3,
   "metadata": {},
   "outputs": [],
   "source": [
    "import requests\n",
    "import numpy as np\n",
    "\n",
    "from sqlalchemy.orm import sessionmaker\n",
    "from scipy import interpolate\n",
    "from opticalsimulation.settings import Engine\n",
    "from opticalsimulation.models import Material, OpticalIndex\n",
    "\n",
    "Session = sessionmaker(bind=Engine)"
   ]
  },
  {
   "attachments": {},
   "cell_type": "markdown",
   "metadata": {},
   "source": [
    "## filmetricsからデータを追加"
   ]
  },
  {
   "cell_type": "code",
   "execution_count": 4,
   "metadata": {},
   "outputs": [],
   "source": [
    "def add_opticalindex(url):\n",
    "    response = requests.get(url)\n",
    "    if response.status_code == 200:\n",
    "        \n",
    "        name = url.split('/')[-1]\n",
    "        text = response.text\n",
    "        \n",
    "        session = Session()\n",
    "\n",
    "        material = session.query(Material).filter_by(name=name).one_or_none()\n",
    "        if material is None:\n",
    "            material = Material(name=name)\n",
    "            session.add(material)\n",
    "            material = session.query(Material).filter_by(name=name).one()\n",
    "            lines = text.splitlines()\n",
    "            lines.pop(0)\n",
    "            opticalindexes = [OpticalIndex(material_id=material.id,wavelength=line.split()[0],\n",
    "                                           n=line.split()[1],k=line.split()[2]) for line in lines]\n",
    "            session.add_all(opticalindexes)\n",
    "            session.commit()\n",
    "        session.close()\n",
    "    return response.status_code\n",
    "\n"
   ]
  },
  {
   "attachments": {},
   "cell_type": "markdown",
   "metadata": {},
   "source": [
    "## データ出力"
   ]
  },
  {
   "cell_type": "code",
   "execution_count": 5,
   "metadata": {},
   "outputs": [],
   "source": [
    "def get_material_list():\n",
    "    session = Session()\n",
    "    qs = session.query(Material).all()\n",
    "    session.close()\n",
    "    return [(q.id,q.name) for q in qs]"
   ]
  },
  {
   "cell_type": "code",
   "execution_count": 6,
   "metadata": {},
   "outputs": [],
   "source": [
    "def get_material_name(id):\n",
    "    session = Session()\n",
    "    q = session.query(Material).filter_by(id=id).one_or_none()\n",
    "    return q.name"
   ]
  },
  {
   "cell_type": "code",
   "execution_count": 7,
   "metadata": {},
   "outputs": [],
   "source": [
    "def get_opticalindex(id):\n",
    "    session = Session()\n",
    "    qs = session.query(OpticalIndex).filter_by(material_id=id).order_by(OpticalIndex.wavelength).all()\n",
    "    session.close()\n",
    "    ws = [q.wavelength for q in qs]\n",
    "    nks = [complex(q.n,-q.k) for q in qs]\n",
    "    return [ws,nks]"
   ]
  },
  {
   "cell_type": "code",
   "execution_count": 8,
   "metadata": {},
   "outputs": [],
   "source": [
    "def fitted_opticalindex(id,start,end,step):    \n",
    "    session = Session()\n",
    "    qs = session.query(OpticalIndex).filter_by(material_id=id).order_by(OpticalIndex.wavelength).all()\n",
    "    session.close()\n",
    "    if len(qs) > 1:\n",
    "        ws = [q.wavelength for q in qs]\n",
    "        if ws[0] <= start and ws[-1] >= end:\n",
    "            ns = [q.n for q in qs]\n",
    "            ks = [q.k for q in qs]\n",
    "            n_fitted = interpolate.interp1d(ws,ns)\n",
    "            k_fitted = interpolate.interp1d(ws,ks)\n",
    "            x = np.arange(start,end,step)\n",
    "            return [complex(n,-k) for n,k in zip(n_fitted(x),k_fitted(x))]\n",
    "    return []"
   ]
  },
  {
   "attachments": {},
   "cell_type": "markdown",
   "metadata": {},
   "source": [
    "## データ削除"
   ]
  },
  {
   "cell_type": "code",
   "execution_count": 9,
   "metadata": {},
   "outputs": [],
   "source": [
    "def delete_opticalindex(id):\n",
    "    Session = sessionmaker(bind=Engine)\n",
    "    session = Session()\n",
    "    q = session.query(Material).filter_by(id=id).one_or_none()\n",
    "    if q is not None:\n",
    "        session.query(OpticalIndex).filter_by(material_id=q.id).delete()\n",
    "        session.delete(q)\n",
    "        session.commit()\n",
    "    session.close()\n"
   ]
  },
  {
   "cell_type": "code",
   "execution_count": 8,
   "metadata": {},
   "outputs": [
    {
     "data": {
      "text/plain": [
       "200"
      ]
     },
     "execution_count": 8,
     "metadata": {},
     "output_type": "execute_result"
    }
   ],
   "source": [
    "# Test\n",
    "#url = 'https://www.filmetricsinc.jp/technology/refractive-index-database/download/Acrylic'\n",
    "#url = 'https://www.filmetricsinc.jp/technology/refractive-index-database/download/Al10Ga90As'\n",
    "url = 'https://www.filmetricsinc.jp/technology/refractive-index-database/download/Al20Ga80As'\n",
    "\n",
    "add_opticalindex(url)\n"
   ]
  },
  {
   "cell_type": "code",
   "execution_count": 10,
   "metadata": {},
   "outputs": [
    {
     "data": {
      "text/plain": [
       "[(1, 'Al10Ga90As'), (2, 'Al20Ga80As')]"
      ]
     },
     "execution_count": 10,
     "metadata": {},
     "output_type": "execute_result"
    }
   ],
   "source": [
    "get_material_list()"
   ]
  },
  {
   "cell_type": "code",
   "execution_count": 11,
   "metadata": {},
   "outputs": [
    {
     "data": {
      "text/plain": [
       "'Al10Ga90As'"
      ]
     },
     "execution_count": 11,
     "metadata": {},
     "output_type": "execute_result"
    }
   ],
   "source": [
    "get_material_name(1)"
   ]
  },
  {
   "cell_type": "code",
   "execution_count": 12,
   "metadata": {},
   "outputs": [
    {
     "data": {
      "text/plain": [
       "[(3.7316666666666665-2.013333333333333j),\n",
       " (3.55875-1.921j),\n",
       " (3.5425376344086024-1.9629139784946237j),\n",
       " (3.649778846153846-2.0683653846153844j),\n",
       " (4.003641025641025-2.19725641025641j),\n",
       " (4.46-1.949j),\n",
       " (4.898909090909091-1.503342657342658j),\n",
       " (4.771058823529411-0.831803921568627j),\n",
       " (4.5114374999999995-0.5705056818181818j),\n",
       " (4.331413612565445-0.44901570680628267j)]"
      ]
     },
     "execution_count": 12,
     "metadata": {},
     "output_type": "execute_result"
    }
   ],
   "source": [
    "fitted_opticalindex(1,300,500,20)"
   ]
  },
  {
   "cell_type": "code",
   "execution_count": 14,
   "metadata": {},
   "outputs": [],
   "source": [
    "import opticalsimulation.database as db"
   ]
  },
  {
   "cell_type": "code",
   "execution_count": 17,
   "metadata": {},
   "outputs": [
    {
     "data": {
      "text/plain": [
       "200"
      ]
     },
     "execution_count": 17,
     "metadata": {},
     "output_type": "execute_result"
    }
   ],
   "source": [
    "url = 'https://www.filmetricsinc.jp/technology/refractive-index-database/download/Al2O3'\n",
    "db.add_opticalindex(url)"
   ]
  },
  {
   "cell_type": "code",
   "execution_count": 18,
   "metadata": {},
   "outputs": [
    {
     "data": {
      "text/plain": [
       "[(3.7316666666666665-2.013333333333333j),\n",
       " (3.618-1.937j),\n",
       " (3.55875-1.921j),\n",
       " (3.5348977272727273-1.9328295454545454j),\n",
       " (3.5425376344086024-1.9629139784946237j),\n",
       " (3.5797171717171716-2.007848484848485j),\n",
       " (3.649778846153846-2.0683653846153844j),\n",
       " (3.773081081081081-2.14918018018018j),\n",
       " (4.003641025641025-2.19725641025641j),\n",
       " (4.2944-2.1393999999999997j)]"
      ]
     },
     "execution_count": 18,
     "metadata": {},
     "output_type": "execute_result"
    }
   ],
   "source": [
    "db.fitted_opticalindex(1,300,400,10)"
   ]
  }
 ],
 "metadata": {
  "kernelspec": {
   "display_name": ".venv",
   "language": "python",
   "name": "python3"
  },
  "language_info": {
   "codemirror_mode": {
    "name": "ipython",
    "version": 3
   },
   "file_extension": ".py",
   "mimetype": "text/x-python",
   "name": "python",
   "nbconvert_exporter": "python",
   "pygments_lexer": "ipython3",
   "version": "3.9.9"
  },
  "orig_nbformat": 4,
  "vscode": {
   "interpreter": {
    "hash": "6b151670b8be7ebcfea0b711d744efb89439417d3fd860d2d20faf141d62d96a"
   }
  }
 },
 "nbformat": 4,
 "nbformat_minor": 2
}
